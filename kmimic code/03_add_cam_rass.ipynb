{
 "cells": [
  {
   "cell_type": "code",
   "execution_count": null,
   "id": "223fae54",
   "metadata": {
    "vscode": {
     "languageId": "plaintext"
    }
   },
   "outputs": [],
   "source": [
    "import pandas as pd\n",
    "import duckdb\n",
    "import warnings\n",
    "warnings.filterwarnings('ignore')\n",
    "\n",
    "print(\"Starting optimized CAM-ICU and RASS analysis with medication cohort...\")\n",
    "\n",
    "# Setup DuckDB connection with memory limit\n",
    "con = duckdb.connect()\n",
    "con.execute(\"SET memory_limit='8GB'\")\n",
    "\n",
    "# Define item IDs\n",
    "cam_itemids = '001C_1961_26610'\n",
    "rass_itemids = '001C_1596_21550'\n",
    "\n",
    "print(\"\\nLoading medication cohort...\")\n",
    "cohort_df = pd.read_csv('icu_cohort_with_medication_features.csv')\n",
    "print(f\"Cohort loaded: {cohort_df.shape[0]:,} ICU stays\")\n",
    "\n",
    "# Convert datetime columns\n",
    "cohort_df['icu_intime'] = cohort_df['icu_intime'].astype('datetime64[ms]')\n",
    "cohort_df['icu_outtime'] = cohort_df['icu_outtime'].astype('datetime64[ms]')\n"
   ]
  },
  {
   "cell_type": "code",
   "execution_count": null,
   "id": "5395b4d6",
   "metadata": {
    "vscode": {
     "languageId": "plaintext"
    }
   },
   "outputs": [],
   "source": [
    "\n",
    "# Get list of stay IDs for filtering\n",
    "stay_ids = cohort_df['icu_stay_id'].tolist()\n",
    "print(f\"Processing {len(stay_ids):,} ICU stays\")\n",
    "\n",
    "# Create a temporary table with cohort data\n",
    "con.execute(\"CREATE TABLE cohort AS SELECT * FROM cohort_df\")\n",
    "\n",
    "# Process CAM-ICU data with simplified query\n",
    "print(\"\\nProcessing CAM-ICU data (this may take several minutes)...\")"
   ]
  },
  {
   "cell_type": "code",
   "execution_count": null,
   "id": "bed0b650",
   "metadata": {
    "vscode": {
     "languageId": "plaintext"
    }
   },
   "outputs": [],
   "source": [
    "chartevents = pd.read_csv('../KMIMIC/chartevents.csv')"
   ]
  },
  {
   "cell_type": "code",
   "execution_count": null,
   "id": "72c7c089",
   "metadata": {
    "vscode": {
     "languageId": "plaintext"
    }
   },
   "outputs": [],
   "source": [
    "# Create new dataframe with the specified conditions\n",
    "new_df = chartevents[(chartevents['item_id'] == '001C_1961_26610') & \n",
    "                     (chartevents['stay_id'].isin(stay_ids))]"
   ]
  },
  {
   "cell_type": "code",
   "execution_count": null,
   "id": "01cb107c",
   "metadata": {
    "vscode": {
     "languageId": "plaintext"
    }
   },
   "outputs": [],
   "source": [
    "new_df['charttime'] = new_df['charttime'].astype('datetime64[ms]')"
   ]
  },
  {
   "cell_type": "code",
   "execution_count": null,
   "id": "5a054a1f",
   "metadata": {
    "vscode": {
     "languageId": "plaintext"
    }
   },
   "outputs": [],
   "source": [
    "new_df = new_df[[\"stay_id\",\"charttime\",\"value\"]]"
   ]
  },
  {
   "cell_type": "code",
   "execution_count": null,
   "id": "59f5d642",
   "metadata": {
    "vscode": {
     "languageId": "plaintext"
    }
   },
   "outputs": [],
   "source": [
    "\n",
    "\n",
    "# Filter by time bounds\n",
    "print(\"Filtering CAM data by ICU stay times...\")\n",
    "con.execute(\"\"\"\n",
    "CREATE TABLE cam_filtered AS\n",
    "SELECT \n",
    "    cd.*,\n",
    "    date_trunc('hour', cd.charttime) as hour_time\n",
    "FROM new_df cd\n",
    "JOIN cohort c ON cd.stay_id = c.icu_stay_id\n",
    "WHERE cd.charttime >= c.icu_intime \n",
    "    AND cd.charttime <= c.icu_outtime\n",
    "\"\"\")\n"
   ]
  },
  {
   "cell_type": "code",
   "execution_count": null,
   "id": "9b954f3f",
   "metadata": {
    "vscode": {
     "languageId": "plaintext"
    }
   },
   "outputs": [],
   "source": [
    "cam_results = con.execute(\"\"\"\n",
    "SELECT \n",
    "    stay_id as icu_stay_id,\n",
    "    COUNT(CASE WHEN value = 'positive' THEN 1 END) as cam_total_positive_count,\n",
    "    COUNT(CASE WHEN value = 'Negative' THEN 1 END) as cam_total_negative_count,\n",
    "    COUNT(CASE WHEN value = 'Unable to assess' THEN 1 END) as cam_total_Unable_to_assess_count\n",
    "FROM cam_filtered\n",
    "WHERE value IS NOT NULL\n",
    "GROUP BY stay_id\n",
    "\"\"\").fetchdf()"
   ]
  },
  {
   "cell_type": "code",
   "execution_count": null,
   "id": "02b93471",
   "metadata": {
    "vscode": {
     "languageId": "plaintext"
    }
   },
   "outputs": [],
   "source": [
    "# Create new dataframe with the specified conditions\n",
    "rass_df = chartevents[(chartevents['item_id'] == '001C_1596_21550') & \n",
    "                     (chartevents['stay_id'].isin(stay_ids))]"
   ]
  },
  {
   "cell_type": "code",
   "execution_count": null,
   "id": "7d5c34c6",
   "metadata": {
    "vscode": {
     "languageId": "plaintext"
    }
   },
   "outputs": [],
   "source": [
    "rass_df['charttime'] = rass_df['charttime'].astype('datetime64[ms]')"
   ]
  },
  {
   "cell_type": "code",
   "execution_count": null,
   "id": "7c4c93d7",
   "metadata": {
    "vscode": {
     "languageId": "plaintext"
    }
   },
   "outputs": [],
   "source": [
    "rass_df = rass_df[[\"stay_id\",\"charttime\",\"value\"]]"
   ]
  },
  {
   "cell_type": "code",
   "execution_count": null,
   "id": "1a62af9e",
   "metadata": {
    "vscode": {
     "languageId": "plaintext"
    }
   },
   "outputs": [],
   "source": [
    "\n",
    "# Process RASS data\n",
    "print(\"\\nProcessing RASS data...\")\n",
    "\n",
    "# Extract RASS data\n",
    "rass_extract_query = f\"\"\"\n",
    "CREATE TABLE rass_data AS\n",
    "SELECT \n",
    "    c.stay_id,\n",
    "    c.charttime::TIMESTAMP as charttime,\n",
    "    c.value\n",
    "FROM rass_df c\n",
    "\"\"\"\n",
    "\n",
    "print(\"Extracting RASS data from chartevents...\")\n",
    "con.execute(rass_extract_query)"
   ]
  },
  {
   "cell_type": "code",
   "execution_count": null,
   "id": "8615a5fc",
   "metadata": {
    "vscode": {
     "languageId": "plaintext"
    }
   },
   "outputs": [],
   "source": [
    "\n",
    "# Filter by time bounds and parse scores\n",
    "print(\"Filtering and parsing RASS scores...\")\n",
    "rass_parsed_query = \"\"\"\n",
    "CREATE TABLE rass_parsed AS\n",
    "SELECT \n",
    "    rd.stay_id,\n",
    "    rd.charttime,\n",
    "    CASE \n",
    "        WHEN rd.value ILIKE '%4%' OR rd.value ILIKE '%combative%' THEN 4\n",
    "        WHEN rd.value ILIKE '%3%' OR rd.value ILIKE '%very agitated%' THEN 3\n",
    "        WHEN rd.value ILIKE '%2%' OR rd.value ILIKE '%agitated%' THEN 2\n",
    "        WHEN rd.value ILIKE '%1%' OR rd.value ILIKE '%restless%' THEN 1\n",
    "        WHEN rd.value ILIKE '%0%' OR rd.value ILIKE '%alert and calm%' THEN 0\n",
    "        WHEN rd.value ILIKE '%-1%' OR rd.value ILIKE '%drowsy%' THEN -1\n",
    "        WHEN rd.value ILIKE '%-2%' OR rd.value ILIKE '%light sedation%' THEN -2\n",
    "        WHEN rd.value ILIKE '%-3%' OR rd.value ILIKE '%moderate sedation%' THEN -3\n",
    "        WHEN rd.value ILIKE '%-4%' OR rd.value ILIKE '%deep sedation%' THEN -4\n",
    "        WHEN rd.value ILIKE '%-5%' OR rd.value ILIKE '%unarousable%' THEN -5\n",
    "        ELSE TRY_CAST(REGEXP_EXTRACT(rd.value, '([+-]?\\\\d+)', 1) AS INTEGER)\n",
    "    END as rass_score\n",
    "FROM rass_data rd\n",
    "JOIN cohort c ON rd.stay_id = c.icu_stay_id\n",
    "WHERE rd.charttime >= c.icu_intime \n",
    "    AND rd.charttime <= c.icu_outtime\n",
    "\"\"\"\n",
    "\n",
    "con.execute(rass_parsed_query)"
   ]
  },
  {
   "cell_type": "code",
   "execution_count": null,
   "id": "d963f8f3",
   "metadata": {
    "vscode": {
     "languageId": "plaintext"
    }
   },
   "outputs": [],
   "source": [
    "# Aggregate RASS results\n",
    "print(\"Aggregating RASS results by ICU stay...\")\n",
    "rass_results = con.execute(\"\"\"\n",
    "SELECT \n",
    "    stay_id as icu_stay_id,\n",
    "    COUNT(rass_score) as rass_count,\n",
    "    MIN(rass_score) as rass_min,\n",
    "    MAX(rass_score) as rass_max,\n",
    "    ROUND(AVG(rass_score)::NUMERIC, 2) as rass_mean,\n",
    "    PERCENTILE_CONT(0.5) WITHIN GROUP (ORDER BY rass_score) as rass_median\n",
    "FROM rass_parsed\n",
    "WHERE rass_score IS NOT NULL \n",
    "    AND rass_score BETWEEN -5 AND 4\n",
    "GROUP BY stay_id\n",
    "\"\"\").fetchdf()\n"
   ]
  },
  {
   "cell_type": "code",
   "execution_count": null,
   "id": "d5614181",
   "metadata": {
    "vscode": {
     "languageId": "plaintext"
    }
   },
   "outputs": [],
   "source": [
    "\n",
    "# Combine results using pandas merge (more efficient for this operation)\n",
    "print(\"\\nCombining data with LEFT JOINs...\")\n",
    "\n",
    "# Merge CAM results\n",
    "final_df = cohort_df.merge(cam_results, on='icu_stay_id', how='left')\n",
    "\n",
    "# Merge RASS results\n",
    "final_df = final_df.merge(rass_results, on='icu_stay_id', how='left')\n",
    "\n",
    "# Fill missing counts with 0\n",
    "final_df['cam_total_positive_count'] = final_df['cam_total_positive_count'].fillna(0).astype(int)\n",
    "final_df['cam_total_negative_count'] = final_df['cam_total_negative_count'].fillna(0).astype(int)\n",
    "final_df['rass_count'] = final_df['rass_count'].fillna(0).astype(int)\n",
    "\n",
    "# Summary statistics\n",
    "print(f\"\\nFinal dataset: {final_df.shape[0]:,} rows, {final_df.shape[1]} columns\")\n",
    "print(f\"ICU stays with CAM assessments: {(final_df['cam_total_positive_count'] + final_df['cam_total_negative_count'] > 0).sum():,}\")\n",
    "print(f\"ICU stays with RASS assessments: {(final_df['rass_count'] > 0).sum():,}\")\n",
    "\n",
    "# Distribution of CAM assessments\n",
    "cam_positive_stays = (final_df['cam_total_positive_count'] > 0).sum()\n",
    "cam_negative_stays = (final_df['cam_total_negative_count'] > 0).sum()\n",
    "print(f\"\\nCAM-ICU distribution:\")\n",
    "print(f\"  Stays with ≥1 positive assessment: {cam_positive_stays:,}\")\n",
    "print(f\"  Stays with ≥1 negative assessment: {cam_negative_stays:,}\")\n",
    "\n",
    "# RASS statistics\n",
    "rass_stays = final_df[final_df['rass_count'] > 0]\n",
    "if len(rass_stays) > 0:\n",
    "    print(f\"\\nRASS statistics:\")\n",
    "    print(f\"  Mean RASS count per stay: {rass_stays['rass_count'].mean():.1f}\")\n",
    "    print(f\"  Mean RASS score: {rass_stays['rass_mean'].mean():.2f}\")\n",
    "    print(f\"  Median RASS score: {rass_stays['rass_median'].median():.2f}\")\n",
    "\n",
    "# Save the final dataset\n",
    "output_path = 'icu_cohort_medication_cam_rass.csv'\n",
    "final_df.to_csv(output_path, index=False)\n",
    "print(f\"\\nFinal dataset saved to: {output_path}\")\n",
    "\n",
    "# Show sample of results\n",
    "print(\"\\nSample of final dataset (first 5 rows with new columns):\")\n",
    "sample_cols = ['icu_stay_id', 'cam_total_positive_count', 'cam_total_negative_count', \n",
    "               'rass_count', 'rass_min', 'rass_max', 'rass_mean', 'rass_median']\n",
    "print(final_df[sample_cols].head())\n",
    "\n",
    "# Close connection\n",
    "con.close()\n",
    "print(\"\\nAnalysis complete!\")"
   ]
  },
  {
   "cell_type": "code",
   "execution_count": null,
   "id": "3d2a5df7",
   "metadata": {
    "vscode": {
     "languageId": "plaintext"
    }
   },
   "outputs": [],
   "source": []
  },
  {
   "cell_type": "code",
   "execution_count": null,
   "id": "a8cdde29",
   "metadata": {
    "vscode": {
     "languageId": "plaintext"
    }
   },
   "outputs": [],
   "source": []
  },
  {
   "cell_type": "code",
   "execution_count": null,
   "id": "d1004309",
   "metadata": {
    "vscode": {
     "languageId": "plaintext"
    }
   },
   "outputs": [],
   "source": []
  },
  {
   "cell_type": "code",
   "execution_count": null,
   "id": "6cc2d07a",
   "metadata": {
    "vscode": {
     "languageId": "plaintext"
    }
   },
   "outputs": [],
   "source": []
  },
  {
   "cell_type": "code",
   "execution_count": null,
   "id": "21ea52e6",
   "metadata": {
    "vscode": {
     "languageId": "plaintext"
    }
   },
   "outputs": [],
   "source": []
  },
  {
   "cell_type": "code",
   "execution_count": null,
   "id": "34cc63ae",
   "metadata": {
    "vscode": {
     "languageId": "plaintext"
    }
   },
   "outputs": [],
   "source": []
  },
  {
   "cell_type": "code",
   "execution_count": null,
   "id": "25d95678",
   "metadata": {
    "vscode": {
     "languageId": "plaintext"
    }
   },
   "outputs": [],
   "source": []
  },
  {
   "cell_type": "code",
   "execution_count": null,
   "id": "3e870d4f",
   "metadata": {
    "vscode": {
     "languageId": "plaintext"
    }
   },
   "outputs": [],
   "source": []
  }
 ],
 "metadata": {
  "language_info": {
   "name": "python"
  }
 },
 "nbformat": 4,
 "nbformat_minor": 5
}
