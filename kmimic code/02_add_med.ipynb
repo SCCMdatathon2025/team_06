{
 "cells": [
  {
   "cell_type": "code",
   "execution_count": null,
   "id": "9768f00a",
   "metadata": {
    "vscode": {
     "languageId": "plaintext"
    }
   },
   "outputs": [],
   "source": [
    "# Import required libraries\n",
    "import pandas as pd\n",
    "import duckdb\n",
    "import numpy as np\n",
    "from pathlib import Path\n",
    "import time\n",
    "import warnings\n",
    "warnings.filterwarnings('ignore')\n",
    "conn = duckdb.connect()\n",
    "print(\"DuckDB connection established\")\n",
    "print(\"Libraries imported successfully\")\n",
    "print(f\"DuckDB version: {duckdb.__version__}\")"
   ]
  },
  {
   "cell_type": "code",
   "execution_count": null,
   "id": "8623d67e",
   "metadata": {
    "vscode": {
     "languageId": "plaintext"
    }
   },
   "outputs": [],
   "source": [
    "# Initialize DuckDB connection for ultra-fast processing\n",
    "conn = duckdb.connect()\n",
    "print(\"DuckDB connection established\")\n",
    "\n",
    "# Set up file paths\n",
    "cohort_file = 'icu_cohort_basic_48hrs_optimized_labs.csv'\n",
    "d_items_file = '../KMIMIC/emar.csv'\n",
    "inputevents_file = '../KMIMIC/emar_detail.csv'\n",
    "\n",
    "print(\"\\nFile paths configured:\")\n",
    "print(f\"  Cohort: {cohort_file}\")\n",
    "print(f\"  D_ITEMS: {d_items_file}\")\n",
    "print(f\"  InputEvents: {inputevents_file}\")"
   ]
  },
  {
   "cell_type": "code",
   "execution_count": null,
   "id": "3620d07e",
   "metadata": {
    "vscode": {
     "languageId": "plaintext"
    }
   },
   "outputs": [],
   "source": [
    "# Load the ICU cohort dataset\n",
    "print(\"Loading ICU cohort dataset...\")\n",
    "start_time = time.time()\n",
    "\n",
    "cohort_df = pd.read_csv(cohort_file)\n",
    "print(f\"Cohort loaded in {time.time() - start_time:.2f}s\")\n",
    "print(f\"Cohort shape: {cohort_df.shape}\")\n",
    "print(f\"Columns: {len(cohort_df.columns)}\")\n",
    "\n",
    "# Register with DuckDB\n",
    "conn.register('cohort', cohort_df)\n",
    "print(\"\\nCohort registered with DuckDB\")\n",
    "\n",
    "# Display basic cohort info\n",
    "print(f\"\\nCohort Summary:\")\n",
    "print(f\"  Total ICU stays: {len(cohort_df):,}\")\n",
    "print(f\"  Unique patients: {cohort_df['patient_id'].nunique():,}\")\n",
    "print(f\"  Unique admissions: {cohort_df['admission_id'].nunique():,}\")\n",
    "\n",
    "# Show sample\n",
    "print(\"\\nFirst few rows:\")\n",
    "cohort_df[['patient_id', 'admission_id', 'icu_stay_id', 'icu_intime', 'icu_outtime', 'icu_duration_hours']].head()"
   ]
  },
  {
   "cell_type": "code",
   "execution_count": null,
   "id": "64e3df72",
   "metadata": {
    "vscode": {
     "languageId": "plaintext"
    }
   },
   "outputs": [],
   "source": [
    "# Define the 20 target medications\n",
    "medications = {\n",
    "    'vasoactives': [\n",
    "        'angiotensin', 'dobutamine', 'dopamine', 'epinephrine',\n",
    "        'milrinone', 'norepinephrine', 'phenylephrine', 'vasopressin'\n",
    "    ],\n",
    "    'sedatives': [\n",
    "        'dexmedetomidine', 'fentanyl', 'hydromorphone', 'ketamine',\n",
    "        'lorazepam', 'midazolam', 'morphine', 'pentobarbital', 'propofol'\n",
    "    ],\n",
    "    'paralytics': [\n",
    "        'cisatracurium', 'rocuronium', 'vecuronium'\n",
    "    ]\n",
    "}\n",
    "\n",
    "# Create flat list of all medications\n",
    "all_medications = []\n",
    "for category, meds in medications.items():\n",
    "    all_medications.extend(meds)\n",
    "\n",
    "print(f\"Target medications to find ITEMIDs for: {len(all_medications)}\")\n",
    "print(f\"\\nMedications by category:\")\n",
    "for category, meds in medications.items():\n",
    "    print(f\"  {category.title()}: {meds}\")\n",
    "\n",
    "print(f\"\\nComplete list: {all_medications}\")"
   ]
  },
  {
   "cell_type": "code",
   "execution_count": null,
   "id": "740109e1",
   "metadata": {
    "vscode": {
     "languageId": "plaintext"
    }
   },
   "outputs": [],
   "source": [
    "d_items = pd.read_csv(d_items_file)\n",
    "conn.register('d_items', d_items)"
   ]
  },
  {
   "cell_type": "code",
   "execution_count": null,
   "id": "bebc3f72",
   "metadata": {
    "vscode": {
     "languageId": "plaintext"
    }
   },
   "outputs": [],
   "source": [
    "\n",
    "medication_itemids = {}\n",
    "all_itemids = []\n",
    "not_found = []"
   ]
  },
  {
   "cell_type": "code",
   "execution_count": null,
   "id": "333578f8",
   "metadata": {
    "vscode": {
     "languageId": "plaintext"
    }
   },
   "outputs": [],
   "source": [
    "\n",
    "\n",
    "# Search for each medication\n",
    "for med_name in all_medications:\n",
    "    # Use string containment search (case-insensitive)\n",
    "    search_query = f\"\"\"\n",
    "    SELECT distinct itemid, medication as label,medication as abbreviation\n",
    "    FROM d_items\n",
    "    WHERE LOWER(label) LIKE '%{med_name.lower()}%'\n",
    "       OR LOWER(abbreviation) LIKE '%{med_name.lower()}%'\n",
    "    \"\"\"\n",
    "    \n",
    "    matches = conn.execute(search_query).df()\n",
    "    \n",
    "    if len(matches) > 0:\n",
    "        itemids = matches['itemid'].tolist()\n",
    "        medication_itemids[med_name] = itemids\n",
    "        all_itemids.extend(itemids)\n",
    "        \n",
    "        print(f\"{med_name}: {len(matches)} match(es) - ITEMIDs: {itemids}\")\n",
    "        for _, row in matches.iterrows():\n",
    "            print(f\"  - {row['itemid']}: {row['label']}\")\n",
    "    else:\n",
    "        print(f\"{med_name}: NOT FOUND\")\n",
    "        not_found.append(med_name)\n",
    "\n",
    "print(f\"\\n=\" * 60)\n",
    "print(f\"SEARCH SUMMARY:\")\n",
    "print(f\"  Medications searched: {len(all_medications)}\")\n",
    "print(f\"  Medications found: {len(medication_itemids)}\")\n",
    "print(f\"  Medications not found: {len(not_found)}\")\n",
    "print(f\"  Total unique ITEMIDs: {len(set(all_itemids))}\")\n",
    "\n",
    "if not_found:\n",
    "    print(f\"\\nNot found: {not_found}\")\n",
    "\n",
    "# Create list of unique ITEMIDs for filtering inputevents\n",
    "unique_itemids = list(set(all_itemids))\n",
    "print(f\"\\nUnique ITEMIDs to filter: {unique_itemids}\")"
   ]
  },
  {
   "cell_type": "code",
   "execution_count": null,
   "id": "ccda5589",
   "metadata": {
    "vscode": {
     "languageId": "plaintext"
    }
   },
   "outputs": [],
   "source": [
    "# Create enhanced cohort with medication features using DuckDB for ultra-fast processing\n",
    "print(\"Creating medication features using ultra-fast DuckDB processing...\")\n",
    "print(\"This may take a few minutes due to the large inputevents dataset (~11M records)\")\n",
    "print(\"=\" * 80)\n",
    "\n",
    "start_time = time.time()\n",
    "\n",
    "# Build the comprehensive SQL query to add all medication features at once\n",
    "sql_parts = []\n",
    "\n",
    "for med_name in medication_itemids.keys():\n",
    "        # Filter out items containing \"YDPMIIT99999\" before joining\n",
    "    filtered_itemids = [f\"'{item}'\" for item in medication_itemids[med_name] if \"Y\" not in str(item)]\n",
    "    itemids_str = ','.join(filtered_itemids)\n",
    "    \n",
    "    sql_parts.append(f\"\"\"\n",
    "    CASE WHEN EXISTS (\n",
    "        SELECT 1 FROM d_items ie\n",
    "        WHERE ie.hadm_id = c.admission_id\n",
    "          AND cast(ie.itemid as varchar) IN ({itemids_str})\n",
    "          AND CAST(ie.CHARTTIME AS TIMESTAMP) >= CAST(c.icu_intime AS TIMESTAMP)\n",
    "          AND CAST(ie.CHARTTIME AS TIMESTAMP) <= CAST(c.icu_outtime AS TIMESTAMP)\n",
    "    ) THEN 1 ELSE 0 END AS med_{med_name}\"\"\")\n",
    "\n",
    "# Create the complete query\n",
    "medication_features_query = f\"\"\"\n",
    "SELECT \n",
    "    c.*,\n",
    "    {','.join(sql_parts)}\n",
    "FROM cohort_df c\n",
    "\"\"\"\n",
    "\n",
    "print(\"Executing comprehensive medication feature query...\")\n",
    "print(f\"Adding {len(medication_itemids)} medication features...\")\n",
    "\n",
    "# Execute the query\n",
    "enhanced_cohort = conn.execute(medication_features_query).df()\n",
    "\n",
    "processing_time = time.time() - start_time\n",
    "print(f\"\\n✓ Processing completed in {processing_time:.2f} seconds!\")\n",
    "print(f\"Enhanced cohort shape: {enhanced_cohort.shape}\")\n",
    "print(f\"New columns added: {len(medication_itemids)}\")\n",
    "print(f\"Total columns now: {len(enhanced_cohort.columns)}\")"
   ]
  },
  {
   "cell_type": "code",
   "execution_count": null,
   "id": "5d5442c1",
   "metadata": {
    "vscode": {
     "languageId": "plaintext"
    }
   },
   "outputs": [],
   "source": [
    "# Debug: Print the first few medication queries to check for issues\n",
    "print(\"Sample medication queries:\")\n",
    "for i, (med_name, itemids) in enumerate(list(medication_itemids.items())[:3]):\n",
    "    itemids_str = ','.join(map(str, itemids))\n",
    "    print(f\"{med_name}: {itemids_str}\")\n",
    "    if i >= 2:\n",
    "        break"
   ]
  },
  {
   "cell_type": "code",
   "execution_count": null,
   "id": "94e87d0b",
   "metadata": {
    "vscode": {
     "languageId": "plaintext"
    }
   },
   "outputs": [],
   "source": [
    "# Analyze the new medication features\n",
    "print(\"MEDICATION FEATURE ANALYSIS\")\n",
    "print(\"=\" * 50)\n",
    "\n",
    "# Get medication columns\n",
    "med_columns = [col for col in enhanced_cohort.columns if col.startswith('med_')]\n",
    "print(f\"Medication features created: {len(med_columns)}\")\n",
    "\n",
    "# Calculate usage statistics\n",
    "print(f\"\\nMedication usage statistics:\")\n",
    "usage_stats = []\n",
    "\n",
    "for col in sorted(med_columns):\n",
    "    med_name = col.replace('med_', '')\n",
    "    usage_count = enhanced_cohort[col].sum()\n",
    "    usage_pct = (usage_count / len(enhanced_cohort)) * 100\n",
    "    \n",
    "    usage_stats.append({\n",
    "        'medication': med_name,\n",
    "        'usage_count': usage_count,\n",
    "        'usage_percentage': usage_pct\n",
    "    })\n",
    "    \n",
    "    print(f\"  {med_name}: {usage_count:,} stays ({usage_pct:.1f}%)\")\n",
    "\n",
    "# Overall medication usage\n",
    "any_med_usage = (enhanced_cohort[med_columns].sum(axis=1) > 0).sum()\n",
    "any_med_pct = (any_med_usage / len(enhanced_cohort)) * 100\n",
    "\n",
    "print(f\"\\nOverall medication analysis:\")\n",
    "print(f\"  Stays with ANY target medication: {any_med_usage:,} ({any_med_pct:.1f}%)\")\n",
    "print(f\"  Stays with NO target medications: {len(enhanced_cohort) - any_med_usage:,} ({100 - any_med_pct:.1f}%)\")\n",
    "\n",
    "# Top medications by usage\n",
    "usage_df = pd.DataFrame(usage_stats)\n",
    "usage_df = usage_df.sort_values('usage_percentage', ascending=False)\n",
    "\n",
    "print(f\"\\nTop 10 most used medications:\")\n",
    "for i, (_, row) in enumerate(usage_df.head(10).iterrows(), 1):\n",
    "    print(f\"  {i:2d}. {row['medication']}: {row['usage_count']:,} stays ({row['usage_percentage']:.1f}%)\")"
   ]
  },
  {
   "cell_type": "code",
   "execution_count": null,
   "id": "a7f866d0",
   "metadata": {
    "vscode": {
     "languageId": "plaintext"
    }
   },
   "outputs": [],
   "source": [
    "# Display sample of enhanced cohort\n",
    "print(\"Enhanced cohort sample:\")\n",
    "print(\"=\" * 30)\n",
    "\n",
    "# Show basic info + a few medication columns\n",
    "sample_columns = ['patient_id', 'admission_id', 'icu_stay_id', 'icu_duration_hours', 'age_years'] + med_columns[:5]\n",
    "print(f\"Sample columns: {sample_columns}\")\n",
    "print(\"\\nFirst 10 rows:\")\n",
    "enhanced_cohort[sample_columns].head(10)"
   ]
  },
  {
   "cell_type": "code",
   "execution_count": null,
   "id": "d28a1824",
   "metadata": {
    "vscode": {
     "languageId": "plaintext"
    }
   },
   "outputs": [],
   "source": [
    "# Verify boolean nature of medication features\n",
    "print(f\"Verifying boolean nature of medication features:\")\n",
    "all_valid = True\n",
    "for col in med_columns:\n",
    "    unique_vals = set(enhanced_cohort[col].unique())\n",
    "    if unique_vals <= {0, 1}:  # Should only contain 0 and 1\n",
    "        print(f\"  ✓ {col}: Valid boolean (0/1)\")\n",
    "    else:\n",
    "        print(f\"  ✗ {col}: Invalid values: {unique_vals}\")\n",
    "        all_valid = False\n",
    "\n",
    "if all_valid:\n",
    "    print(\"\\n✓ All medication features are valid boolean columns!\")\n",
    "else:\n",
    "    print(\"\\n⚠️ Some medication features have invalid values!\")"
   ]
  },
  {
   "cell_type": "code",
   "execution_count": null,
   "id": "ddef2602",
   "metadata": {
    "vscode": {
     "languageId": "plaintext"
    }
   },
   "outputs": [],
   "source": [
    "# Export the enhanced cohort dataset\n",
    "print(\"Exporting enhanced cohort dataset...\")\n",
    "print(\"=\" * 40)\n",
    "\n",
    "# 1. Main enhanced cohort file\n",
    "output_file = 'icu_cohort_with_medication_features.csv'\n",
    "enhanced_cohort.to_csv(output_file, index=False)\n",
    "print(f\"✓ Enhanced cohort saved to: {output_file}\")\n",
    "print(f\"  Rows: {len(enhanced_cohort):,}\")\n",
    "print(f\"  Columns: {len(enhanced_cohort.columns)}\")\n",
    "print(f\"  File size: {Path(output_file).stat().st_size / 1024 / 1024:.1f} MB\")\n"
   ]
  },
  {
   "cell_type": "code",
   "execution_count": null,
   "id": "ab2c3c72",
   "metadata": {
    "vscode": {
     "languageId": "plaintext"
    }
   },
   "outputs": [],
   "source": []
  },
  {
   "cell_type": "code",
   "execution_count": null,
   "id": "d273aba5",
   "metadata": {
    "vscode": {
     "languageId": "plaintext"
    }
   },
   "outputs": [],
   "source": []
  },
  {
   "cell_type": "code",
   "execution_count": null,
   "id": "4837e583",
   "metadata": {
    "vscode": {
     "languageId": "plaintext"
    }
   },
   "outputs": [],
   "source": []
  },
  {
   "cell_type": "code",
   "execution_count": null,
   "id": "ac3573c7",
   "metadata": {
    "vscode": {
     "languageId": "plaintext"
    }
   },
   "outputs": [],
   "source": []
  },
  {
   "cell_type": "code",
   "execution_count": null,
   "id": "d5006247",
   "metadata": {
    "vscode": {
     "languageId": "plaintext"
    }
   },
   "outputs": [],
   "source": []
  },
  {
   "cell_type": "code",
   "execution_count": null,
   "id": "6b279022",
   "metadata": {
    "vscode": {
     "languageId": "plaintext"
    }
   },
   "outputs": [],
   "source": []
  },
  {
   "cell_type": "code",
   "execution_count": null,
   "id": "ef049324",
   "metadata": {
    "vscode": {
     "languageId": "plaintext"
    }
   },
   "outputs": [],
   "source": []
  },
  {
   "cell_type": "code",
   "execution_count": null,
   "id": "506e47ca",
   "metadata": {
    "vscode": {
     "languageId": "plaintext"
    }
   },
   "outputs": [],
   "source": []
  },
  {
   "cell_type": "code",
   "execution_count": null,
   "id": "f4683557",
   "metadata": {
    "vscode": {
     "languageId": "plaintext"
    }
   },
   "outputs": [],
   "source": []
  },
  {
   "cell_type": "code",
   "execution_count": null,
   "id": "360532eb",
   "metadata": {
    "vscode": {
     "languageId": "plaintext"
    }
   },
   "outputs": [],
   "source": []
  },
  {
   "cell_type": "code",
   "execution_count": null,
   "id": "35abfa61",
   "metadata": {
    "vscode": {
     "languageId": "plaintext"
    }
   },
   "outputs": [],
   "source": []
  },
  {
   "cell_type": "code",
   "execution_count": null,
   "id": "756b3700",
   "metadata": {
    "vscode": {
     "languageId": "plaintext"
    }
   },
   "outputs": [],
   "source": []
  },
  {
   "cell_type": "code",
   "execution_count": null,
   "id": "77222bdc",
   "metadata": {
    "vscode": {
     "languageId": "plaintext"
    }
   },
   "outputs": [],
   "source": []
  },
  {
   "cell_type": "code",
   "execution_count": null,
   "id": "92cf0c27",
   "metadata": {
    "vscode": {
     "languageId": "plaintext"
    }
   },
   "outputs": [],
   "source": []
  },
  {
   "cell_type": "code",
   "execution_count": null,
   "id": "795ed639",
   "metadata": {
    "vscode": {
     "languageId": "plaintext"
    }
   },
   "outputs": [],
   "source": []
  }
 ],
 "metadata": {
  "language_info": {
   "name": "python"
  }
 },
 "nbformat": 4,
 "nbformat_minor": 5
}
